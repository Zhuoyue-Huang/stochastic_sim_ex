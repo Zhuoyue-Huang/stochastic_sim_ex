{
 "cells": [
  {
   "cell_type": "code",
   "execution_count": 2,
   "metadata": {},
   "outputs": [],
   "source": [
    "import numpy as np\n",
    "import matplotlib.pyplot as plt"
   ]
  },
  {
   "cell_type": "code",
   "execution_count": 7,
   "metadata": {},
   "outputs": [
    {
     "data": {
      "text/plain": [
       "(array([2.14020581e-04, 0.00000000e+00, 0.00000000e+00, 0.00000000e+00,\n",
       "        2.14020581e-04, 4.28041162e-04, 1.07010290e-03, 2.14020581e-04,\n",
       "        1.49814407e-03, 1.28412349e-03, 2.35422639e-03, 2.56824697e-03,\n",
       "        3.85237046e-03, 4.70845278e-03, 9.63092614e-03, 1.41253583e-02,\n",
       "        1.64795847e-02, 2.97488607e-02, 2.95348402e-02, 3.76676222e-02,\n",
       "        4.90107130e-02, 7.06267917e-02, 8.43241088e-02, 1.11076681e-01,\n",
       "        1.34618945e-01, 1.55806983e-01, 1.89836255e-01, 2.06315840e-01,\n",
       "        2.36706762e-01, 2.76514590e-01, 2.83577270e-01, 3.13540151e-01,\n",
       "        3.59982617e-01, 3.68115399e-01, 3.88661375e-01, 4.18410236e-01,\n",
       "        3.92299725e-01, 3.87377251e-01, 3.79244469e-01, 3.85023025e-01,\n",
       "        3.59554576e-01, 3.29591694e-01, 3.13968192e-01, 2.76942632e-01,\n",
       "        2.48049853e-01, 2.14876663e-01, 1.88338111e-01, 1.62441621e-01,\n",
       "        1.41681625e-01, 1.10434620e-01, 9.69513231e-02, 7.94016355e-02,\n",
       "        5.77855568e-02, 4.70845278e-02, 3.72395811e-02, 2.99628813e-02,\n",
       "        1.92618523e-02, 1.39113378e-02, 8.98886440e-03, 4.92247336e-03,\n",
       "        6.84865859e-03, 3.42432929e-03, 1.92618523e-03, 2.56824697e-03,\n",
       "        1.49814407e-03, 6.42061743e-04, 6.42061743e-04, 4.28041162e-04,\n",
       "        2.14020581e-04, 2.14020581e-04]),\n",
       " array([-4.53218755, -4.40882911, -4.28547066, -4.16211222, -4.03875377,\n",
       "        -3.91539533, -3.79203688, -3.66867843, -3.54531999, -3.42196154,\n",
       "        -3.2986031 , -3.17524465, -3.05188621, -2.92852776, -2.80516932,\n",
       "        -2.68181087, -2.55845243, -2.43509398, -2.31173553, -2.18837709,\n",
       "        -2.06501864, -1.9416602 , -1.81830175, -1.69494331, -1.57158486,\n",
       "        -1.44822642, -1.32486797, -1.20150953, -1.07815108, -0.95479264,\n",
       "        -0.83143419, -0.70807574, -0.5847173 , -0.46135885, -0.33800041,\n",
       "        -0.21464196, -0.09128352,  0.03207493,  0.15543337,  0.27879182,\n",
       "         0.40215026,  0.52550871,  0.64886716,  0.7722256 ,  0.89558405,\n",
       "         1.01894249,  1.14230094,  1.26565938,  1.38901783,  1.51237627,\n",
       "         1.63573472,  1.75909316,  1.88245161,  2.00581005,  2.1291685 ,\n",
       "         2.25252695,  2.37588539,  2.49924384,  2.62260228,  2.74596073,\n",
       "         2.86931917,  2.99267762,  3.11603606,  3.23939451,  3.36275295,\n",
       "         3.4861114 ,  3.60946985,  3.73282829,  3.85618674,  3.97954518,\n",
       "         4.10290363]),\n",
       " <BarContainer object of 70 artists>)"
      ]
     },
     "execution_count": 7,
     "metadata": {},
     "output_type": "execute_result"
    },
    {
     "data": {
      "image/png": "[encoded data removed]",
      "text/plain": [
       "<Figure size 432x288 with 1 Axes>"
      ]
     },
     "metadata": {
      "needs_background": "light"
     },
     "output_type": "display_data"
    }
   ],
   "source": [
    "# ex1\n",
    "def normal(x):\n",
    "    return np.exp(-x**2/2)/np.sqrt(2*np.pi)\n",
    "def laplace(x, alpha):\n",
    "    return (alpha/2)*np.exp(-alpha*np.abs(x))\n",
    "\n",
    "alpha = 1\n",
    "M = np.sqrt(2*np.exp(1)/np.pi)\n",
    "samples = []\n",
    "for i in range(50000):\n",
    "    x_proposed = np.random.laplace(0, 1/alpha)\n",
    "    u = np.random.uniform()\n",
    "    if u <= normal(x_proposed) / (M*laplace(x_proposed, alpha)):\n",
    "        samples.append(x_proposed)\n",
    "\n",
    "plt.hist(samples, bins=70, density=True, rwidth=0.8, color='r', alpha=0.5)"
   ]
  },
  {
   "cell_type": "code",
   "execution_count": 8,
   "metadata": {},
   "outputs": [
    {
     "name": "stdout",
     "output_type": "stream",
     "text": [
      "1/M: 0.7601734505331403 \n",
      "empirical acceptance: 0.75754\n"
     ]
    }
   ],
   "source": [
    "print(\"1/M:\", 1/M, \"\\nempirical acceptance:\", len(samples)/50000)"
   ]
  },
  {
   "cell_type": "code",
   "execution_count": 14,
   "metadata": {},
   "outputs": [
    {
     "data": {
      "text/plain": [
       "(array([0.02689396, 0.05855038, 0.10673539, 0.18041362, 0.2779042 ,\n",
       "        0.3384156 , 0.39080279, 0.40565049, 0.34597953, 0.26809912,\n",
       "        0.17621144, 0.11766105, 0.06499373, 0.02689396, 0.        ,\n",
       "        0.        , 0.        , 0.        , 0.        , 0.        ,\n",
       "        0.        , 0.        , 0.        , 0.        , 0.        ,\n",
       "        0.        , 0.        , 0.        , 0.        , 0.        ,\n",
       "        0.        , 0.        , 0.        , 0.        , 0.        ,\n",
       "        0.        , 0.        , 0.        , 0.        , 0.        ,\n",
       "        0.        , 0.        , 0.        , 0.        , 0.        ,\n",
       "        0.        , 0.        , 0.        , 0.        , 0.        ,\n",
       "        0.        , 0.        , 0.        , 0.        , 0.        ,\n",
       "        0.        , 0.10925669, 0.23420153, 0.43618634, 0.76255569,\n",
       "        1.11637929, 1.36598881, 1.56181042, 1.5906654 , 1.37999608,\n",
       "        1.0855633 , 0.76283584, 0.46336044, 0.24652792, 0.10673539]),\n",
       " array([-2.49814000e+00, -2.42674849e+00, -2.35535699e+00, -2.28396548e+00,\n",
       "        -2.21257397e+00, -2.14118247e+00, -2.06979096e+00, -1.99839945e+00,\n",
       "        -1.92700794e+00, -1.85561644e+00, -1.78422493e+00, -1.71283342e+00,\n",
       "        -1.64144192e+00, -1.57005041e+00, -1.49865890e+00, -1.42726739e+00,\n",
       "        -1.35587589e+00, -1.28448438e+00, -1.21309287e+00, -1.14170137e+00,\n",
       "        -1.07030986e+00, -9.98918352e-01, -9.27526845e-01, -8.56135338e-01,\n",
       "        -7.84743831e-01, -7.13352323e-01, -6.41960816e-01, -5.70569309e-01,\n",
       "        -4.99177802e-01, -4.27786295e-01, -3.56394788e-01, -2.85003281e-01,\n",
       "        -2.13611774e-01, -1.42220266e-01, -7.08287593e-02,  5.62747802e-04,\n",
       "         7.19542549e-02,  1.43345762e-01,  2.14737269e-01,  2.86128776e-01,\n",
       "         3.57520283e-01,  4.28911791e-01,  5.00303298e-01,  5.71694805e-01,\n",
       "         6.43086312e-01,  7.14477819e-01,  7.85869326e-01,  8.57260833e-01,\n",
       "         9.28652340e-01,  1.00004385e+00,  1.07143535e+00,  1.14282686e+00,\n",
       "         1.21421837e+00,  1.28560988e+00,  1.35700138e+00,  1.42839289e+00,\n",
       "         1.49978440e+00,  1.57117590e+00,  1.64256741e+00,  1.71395892e+00,\n",
       "         1.78535043e+00,  1.85674193e+00,  1.92813344e+00,  1.99952495e+00,\n",
       "         2.07091645e+00,  2.14230796e+00,  2.21369947e+00,  2.28509098e+00,\n",
       "         2.35648248e+00,  2.42787399e+00,  2.49926550e+00]),\n",
       " <BarContainer object of 70 artists>)"
      ]
     },
     "execution_count": 14,
     "metadata": {},
     "output_type": "execute_result"
    },
    {
     "data": {
      "image/png": "[encoded data removed]",
      "text/plain": [
       "<Figure size 432x288 with 1 Axes>"
      ]
     },
     "metadata": {
      "needs_background": "light"
     },
     "output_type": "display_data"
    }
   ],
   "source": [
    "def trunc_guassian(mu, sigma, a, n=1):\n",
    "    samples = []\n",
    "    while len(samples) != n:\n",
    "        x = np.random.normal(mu, sigma)\n",
    "        if mu-a<x<mu+a:\n",
    "            samples.append(x)\n",
    "    return samples\n",
    "\n",
    "def discrete_sampler(weights, u):\n",
    "    cdf = np.cumsum(weights)\n",
    "    for i in range(len(cdf)):\n",
    "        if u <= cdf[i]:\n",
    "            return i\n",
    "\n",
    "w = [0.8, 0.2]\n",
    "mu = [2, -2]\n",
    "sigma = [0.2, 0.2]\n",
    "a = [0.5, 0.5]\n",
    "\n",
    "samples = []\n",
    "for i in range(50000):\n",
    "    u = np.random.uniform(0, 1)\n",
    "    ind = discrete_sampler(w, u)\n",
    "    samples.append(trunc_guassian(mu[ind], sigma[ind], a[ind])[0])\n",
    "plt.hist(samples, bins=70, density=True, rwidth=0.8, color='r', alpha=0.5)"
   ]
  },
  {
   "cell_type": "code",
   "execution_count": 22,
   "metadata": {},
   "outputs": [
    {
     "data": {
      "text/plain": [
       "<matplotlib.collections.PathCollection at 0x1b41552fd00>"
      ]
     },
     "execution_count": 22,
     "metadata": {},
     "output_type": "execute_result"
    },
    {
     "data": {
      "image/png": "[encoded data removed]",
      "text/plain": [
       "<Figure size 432x288 with 1 Axes>"
      ]
     },
     "metadata": {
      "needs_background": "light"
     },
     "output_type": "display_data"
    }
   ],
   "source": [
    "# ex3\n",
    "samples1 = []\n",
    "samples2 = []\n",
    "for i in range(50000):\n",
    "    x = np.random.uniform(-1, 1, size=2)\n",
    "    if x[0]**2 + x[1]**2 <= 1:\n",
    "        samples1.append(x[0])\n",
    "        samples2.append(x[1])\n",
    "plt.scatter(samples1, samples2)"
   ]
  },
  {
   "cell_type": "code",
   "execution_count": 24,
   "metadata": {},
   "outputs": [
    {
     "data": {
      "text/plain": [
       "[<matplotlib.lines.Line2D at 0x1b41725ca00>]"
      ]
     },
     "execution_count": 24,
     "metadata": {},
     "output_type": "execute_result"
    },
    {
     "data": {
      "image/png": "[encoded data removed]",
      "text/plain": [
       "<Figure size 432x288 with 2 Axes>"
      ]
     },
     "metadata": {
      "needs_background": "light"
     },
     "output_type": "display_data"
    }
   ],
   "source": [
    "plt.subplot(1, 2, 1)\n",
    "x = np.linspace(-1, 1, 100)\n",
    "y = 2*np.sqrt(1-x**2) / np.pi\n",
    "plt.hist(samples1, bins=50, density=True, rwidth=0.8, color='r', alpha=0.5)\n",
    "plt.plot(x, y)\n",
    "\n",
    "plt.subplot(1, 2, 2)\n",
    "plt.hist(samples2, bins=50, density=True, rwidth=0.8, color='r', alpha=0.5)\n",
    "plt.plot(x, y)"
   ]
  },
  {
   "cell_type": "code",
   "execution_count": null,
   "metadata": {},
   "outputs": [],
   "source": []
  }
 ],
 "metadata": {
  "kernelspec": {
   "display_name": "Python 3.9.6 64-bit",
   "language": "python",
   "name": "python3"
  },
  "language_info": {
   "codemirror_mode": {
    "name": "ipython",
    "version": 3
   },
   "file_extension": ".py",
   "mimetype": "text/x-python",
   "name": "python",
   "nbconvert_exporter": "python",
   "pygments_lexer": "ipython3",
   "version": "3.9.6"
  },
  "orig_nbformat": 4,
  "vscode": {
   "interpreter": {
    "hash": "564aee36413f03b7190b7de1b12a6e695e2661bae8bd59105d5e2048aa9f9e35"
   }
  }
 },
 "nbformat": 4,
 "nbformat_minor": 2
}
