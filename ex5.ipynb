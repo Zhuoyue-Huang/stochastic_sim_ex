{
 "cells": [
  {
   "cell_type": "code",
   "execution_count": 1,
   "metadata": {},
   "outputs": [],
   "source": [
    "import numpy as np\n",
    "from scipy.stats import norm, expon"
   ]
  },
  {
   "cell_type": "code",
   "execution_count": 2,
   "metadata": {},
   "outputs": [
    {
     "name": "stdout",
     "output_type": "stream",
     "text": [
      "Ground truth probability: 3.167124183311986e-05\n",
      "Monte Carlo estimate: 0.0\n",
      "Importance sampling estimate: 3.237158065182585e-05\n"
     ]
    }
   ],
   "source": [
    "# Q1\n",
    "ground_truth = norm.cdf(-4)\n",
    "\n",
    "n = 10000\n",
    "MC_sampling = np.sum(np.where(np.random.randn(n)>4, 1, 0)) / n\n",
    "IS_normal = 0\n",
    "for i in range(n):\n",
    "    sample = np.random.normal(6, 1)\n",
    "    if sample > 4:\n",
    "        IS_normal += norm.pdf(sample) / norm.pdf(sample, loc=6, scale=1)\n",
    "IS_normal /= n\n",
    "print(\"Ground truth probability:\", ground_truth)\n",
    "print(\"Monte Carlo estimate:\", MC_sampling)\n",
    "print(\"Importance sampling estimate:\", IS_normal)"
   ]
  },
  {
   "cell_type": "code",
   "execution_count": 3,
   "metadata": {},
   "outputs": [
    {
     "name": "stdout",
     "output_type": "stream",
     "text": [
      "IS normal relative error: 0.022112767866702753\n",
      "IS exp relative error: 0.0032167542559923368\n"
     ]
    }
   ],
   "source": [
    "IS_exp = 0\n",
    "sample = np.random.exponential(size=n) + 4\n",
    "IS_exp = np.sum(norm.pdf(sample) / expon.pdf(sample-4)) / n\n",
    "print(\"IS normal relative error:\", np.abs(ground_truth-IS_normal)/ground_truth)\n",
    "print(\"IS exp relative error:\", np.abs(ground_truth-IS_exp)/ground_truth)"
   ]
  },
  {
   "cell_type": "code",
   "execution_count": 4,
   "metadata": {},
   "outputs": [
    {
     "name": "stdout",
     "output_type": "stream",
     "text": [
      "MC absolute error: 0.004811741338353884\n",
      "IS absolute error: 0.0007309580716498057\n"
     ]
    }
   ],
   "source": [
    "# Q3\n",
    "MC_mean = np.sum(np.random.randn(n)) / n\n",
    "sample = np.random.normal(0, 2, n)\n",
    "IS_mean = np.sum(sample * norm.pdf(sample) / norm.pdf(sample, loc=0, scale=2)) / n\n",
    "print(\"MC absolute error:\", np.abs(MC_mean))\n",
    "print(\"IS absolute error:\", np.abs(IS_mean))"
   ]
  },
  {
   "cell_type": "code",
   "execution_count": 5,
   "metadata": {},
   "outputs": [
    {
     "name": "stdout",
     "output_type": "stream",
     "text": [
      "MC variance: 9.930115340568142e-05\n",
      "IS variance: 8.54992278855735e-05\n",
      "Absolute error for variance ratio: 0.09120905490148512\n"
     ]
    }
   ],
   "source": [
    "MC_list = []\n",
    "IS_list = []\n",
    "m = 5000\n",
    "for i in range(m):\n",
    "    MC_mean = np.sum(np.random.randn(n)) / n\n",
    "    MC_list.append(MC_mean)\n",
    "    sample = np.random.normal(0, 2, n)\n",
    "    IS_mean = np.sum(sample * norm.pdf(sample) / norm.pdf(sample, loc=0, scale=2)) / n\n",
    "    IS_list.append(IS_mean)\n",
    "MC_var = np.var(MC_list)\n",
    "IS_var = np.var(IS_list)\n",
    "print(\"MC variance:\", MC_var)\n",
    "print(\"IS variance:\", IS_var)\n",
    "print(\"Absolute error for variance ratio:\", np.abs(np.exp(np.log(IS_var)-np.log(MC_var))-np.sqrt(16/27)))"
   ]
  },
  {
   "cell_type": "code",
   "execution_count": 6,
   "metadata": {},
   "outputs": [
    {
     "name": "stdout",
     "output_type": "stream",
     "text": [
      "naive normalisation procedure: [nan nan nan nan nan]\n",
      "stable normalisation procedure: [8.71443187e-02 2.36882818e-01 3.20586033e-02 6.43914260e-01\n",
      " 1.68079592e-23]\n"
     ]
    },
    {
     "name": "stderr",
     "output_type": "stream",
     "text": [
      "C:\\Users\\Besty\\AppData\\Local\\Temp\\ipykernel_34584\\557794628.py:2: RuntimeWarning: overflow encountered in exp\n",
      "  naive_w = np.exp(log_w) / np.sum(np.exp(log_w))\n",
      "C:\\Users\\Besty\\AppData\\Local\\Temp\\ipykernel_34584\\557794628.py:2: RuntimeWarning: invalid value encountered in true_divide\n",
      "  naive_w = np.exp(log_w) / np.sum(np.exp(log_w))\n"
     ]
    }
   ],
   "source": [
    "log_w = np.array([1000 , 1001 , 999 , 1002 , 950])\n",
    "naive_w = np.exp(log_w) / np.sum(np.exp(log_w))\n",
    "\n",
    "max_w = np.max(log_w)\n",
    "modified_log_w = log_w - max_w\n",
    "modified_w = np.exp(modified_log_w) / np.sum(np.exp(modified_log_w))\n",
    "print(\"naive normalisation procedure:\", naive_w)\n",
    "print(\"stable normalisation procedure:\", modified_w)"
   ]
  },
  {
   "cell_type": "code",
   "execution_count": null,
   "metadata": {},
   "outputs": [],
   "source": []
  }
 ],
 "metadata": {
  "kernelspec": {
   "display_name": "Python 3.9.6 64-bit",
   "language": "python",
   "name": "python3"
  },
  "language_info": {
   "codemirror_mode": {
    "name": "ipython",
    "version": 3
   },
   "file_extension": ".py",
   "mimetype": "text/x-python",
   "name": "python",
   "nbconvert_exporter": "python",
   "pygments_lexer": "ipython3",
   "version": "3.9.6"
  },
  "orig_nbformat": 4,
  "vscode": {
   "interpreter": {
    "hash": "564aee36413f03b7190b7de1b12a6e695e2661bae8bd59105d5e2048aa9f9e35"
   }
  }
 },
 "nbformat": 4,
 "nbformat_minor": 2
}
